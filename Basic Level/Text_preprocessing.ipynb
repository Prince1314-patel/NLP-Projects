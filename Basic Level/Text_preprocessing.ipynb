{
 "cells": [
  {
   "cell_type": "code",
   "execution_count": 1,
   "metadata": {},
   "outputs": [],
   "source": [
    "paragraph = \"\"\"\n",
    "The antiquated, rust-eaten ship, a relic of a bygone era, bobbed ominously in the tempestuous, inky waters. Its weathered hull, scarred by countless storms and treacherous seas, bore silent witness to a century of maritime adventures and mishaps. As the relentless gale howled, whipping the waves into a frenzy of foam, the ship creaked and groaned, its timbers protesting the relentless onslaught. A lone figure, clad in a tattered oilskin coat, stood at the helm, his face etched with a mixture of fear and defiance. His weathered hands gripped the wheel, his eyes fixed on the horizon, where the storm clouds raged like monstrous, celestial beasts.\n",
    "\n",
    "The ship had once been a majestic vessel, its sails billowing proudly in the wind as it traversed vast oceans, carrying precious cargo and bold explorers to distant shores. Now, it was a mere ghost of its former self, a forlorn sentinel of a forgotten age. The figure at the helm, a grizzled old sailor named Elias, had spent most of his life at sea, braving countless dangers and witnessing the wrath of nature firsthand. He had seen ships sink beneath the waves, their crews lost to the depths; he had weathered hurricanes that had stripped vessels bare; and he had faced pirates, smugglers, and other nefarious characters who prowled the seas in search of plunder. But nothing had prepared him for the storm that was now raging around him.\n",
    "\n",
    "As the night wore on, the storm grew even more ferocious, the wind howling like a banshee and the waves crashing against the ship with terrifying force. The figure at the helm clung to the wheel, his knuckles white with the effort. He could feel the ship shudder and groan, its timbers straining under the immense pressure. A wave larger than any he had ever seen reared up before him, its crest towering above the ship. Elias braced himself, his heart pounding in his chest. The wave crashed down, engulfing the ship in a torrent of seawater. The figure at the helm was swept overboard, his body disappearing beneath the churning waves.\n",
    "\n",
    "The storm raged on for days, the sea a chaotic, churning mass of foam and spray. The ship, battered and bruised, drifted helplessly at the mercy of the elements. It was eventually discovered by a passing merchant vessel, its crew astounded to find it still afloat. The ship was towed to a nearby port, where it was hauled ashore and repaired. But the memory of the storm and the loss of its captain would linger long after the ship had been restored to its former glory.\n",
    "\n",
    "\n",
    "\"\"\""
   ]
  },
  {
   "cell_type": "code",
   "execution_count": 2,
   "metadata": {},
   "outputs": [
    {
     "name": "stdout",
     "output_type": "stream",
     "text": [
      "[['The', 'antiquated', ',', 'rust-eaten', 'ship', ',', 'a', 'relic', 'of', 'a', 'bygone', 'era', ',', 'bobbed', 'ominously', 'in', 'the', 'tempestuous', ',', 'inky', 'waters', '.'], ['Its', 'weathered', 'hull', ',', 'scarred', 'by', 'countless', 'storms', 'and', 'treacherous', 'seas', ',', 'bore', 'silent', 'witness', 'to', 'a', 'century', 'of', 'maritime', 'adventures', 'and', 'mishaps', '.']]\n"
     ]
    },
    {
     "name": "stderr",
     "output_type": "stream",
     "text": [
      "[nltk_data] Downloading package punkt to\n",
      "[nltk_data]     C:\\Users\\princ\\AppData\\Roaming\\nltk_data...\n",
      "[nltk_data]   Package punkt is already up-to-date!\n"
     ]
    }
   ],
   "source": [
    "#step-1 tokenisation\n",
    "\n",
    "import nltk\n",
    "nltk.download('punkt')\n",
    "from nltk.tokenize import sent_tokenize, word_tokenize\n",
    "\n",
    "#split the para to sentences\n",
    "\n",
    "sentences = sent_tokenize(paragraph)\n",
    "\n",
    "#Tokenize each sentence into words\n",
    "\n",
    "tokenized_sentences = [word_tokenize(sentences) for sentences in sentences]\n",
    "\n",
    "print(tokenized_sentences[:2])"
   ]
  },
  {
   "cell_type": "code",
   "execution_count": 3,
   "metadata": {},
   "outputs": [
    {
     "name": "stdout",
     "output_type": "stream",
     "text": [
      "[['the', 'antiquated', ',', 'rust-eaten', 'ship', ',', 'a', 'relic', 'of', 'a', 'bygone', 'era', ',', 'bobbed', 'ominously', 'in', 'the', 'tempestuous', ',', 'inky', 'waters', '.'], ['its', 'weathered', 'hull', ',', 'scarred', 'by', 'countless', 'storms', 'and', 'treacherous', 'seas', ',', 'bore', 'silent', 'witness', 'to', 'a', 'century', 'of', 'maritime', 'adventures', 'and', 'mishaps', '.']]\n"
     ]
    }
   ],
   "source": [
    "# step-2 lowercasing\n",
    "\n",
    "lowercase_sentences = [[word.lower() for word in sentence] for sentence in tokenized_sentences]\n",
    "print(lowercase_sentences[:2])"
   ]
  },
  {
   "cell_type": "code",
   "execution_count": 4,
   "metadata": {},
   "outputs": [
    {
     "name": "stdout",
     "output_type": "stream",
     "text": [
      "[['the', 'antiquated', 'rusteaten', 'ship', 'a', 'relic', 'of', 'a', 'bygone', 'era', 'bobbed', 'ominously', 'in', 'the', 'tempestuous', 'inky', 'waters'], ['its', 'weathered', 'hull', 'scarred', 'by', 'countless', 'storms', 'and', 'treacherous', 'seas', 'bore', 'silent', 'witness', 'to', 'a', 'century', 'of', 'maritime', 'adventures', 'and', 'mishaps']]\n"
     ]
    }
   ],
   "source": [
    "#step-3 removing punctuations\n",
    "import string\n",
    "\n",
    "punctuation_table = str.maketrans('', '', string.punctuation)\n",
    "cleaned_sentences = [[word.translate(punctuation_table) for word in sentence] for sentence in lowercase_sentences]\n",
    "\n",
    "# Remove empty words resulting from punctuation removal\n",
    "cleaned_sentences = [[word for word in sentence if word] for sentence in cleaned_sentences]\n",
    "\n",
    "print(cleaned_sentences[:2]) "
   ]
  },
  {
   "cell_type": "code",
   "execution_count": 5,
   "metadata": {},
   "outputs": [
    {
     "name": "stdout",
     "output_type": "stream",
     "text": [
      "[['antiquated', 'rusteaten', 'ship', 'relic', 'bygone', 'era', 'bobbed', 'ominously', 'tempestuous', 'inky', 'waters'], ['weathered', 'hull', 'scarred', 'countless', 'storms', 'treacherous', 'seas', 'bore', 'silent', 'witness', 'century', 'maritime', 'adventures', 'mishaps']]\n"
     ]
    },
    {
     "name": "stderr",
     "output_type": "stream",
     "text": [
      "[nltk_data] Downloading package stopwords to\n",
      "[nltk_data]     C:\\Users\\princ\\AppData\\Roaming\\nltk_data...\n",
      "[nltk_data]   Package stopwords is already up-to-date!\n"
     ]
    }
   ],
   "source": [
    "# step-4 stopwords removal\n",
    "\n",
    "from nltk.corpus import stopwords\n",
    "nltk.download('stopwords')\n",
    "\n",
    "stop_words = set(stopwords.words('english'))\n",
    "\n",
    "#remove stopwords\n",
    "filtered_sentence = [[word for word in sentence if word not in stop_words] for sentence in cleaned_sentences]\n",
    "\n",
    "print(filtered_sentence[:2])"
   ]
  },
  {
   "cell_type": "code",
   "execution_count": 6,
   "metadata": {},
   "outputs": [
    {
     "name": "stderr",
     "output_type": "stream",
     "text": [
      "[nltk_data] Downloading package wordnet to\n",
      "[nltk_data]     C:\\Users\\princ\\AppData\\Roaming\\nltk_data...\n",
      "[nltk_data]   Package wordnet is already up-to-date!\n",
      "[nltk_data] Downloading package omw-1.4 to\n",
      "[nltk_data]     C:\\Users\\princ\\AppData\\Roaming\\nltk_data...\n",
      "[nltk_data]   Package omw-1.4 is already up-to-date!\n"
     ]
    },
    {
     "name": "stdout",
     "output_type": "stream",
     "text": [
      "[['antiquated', 'rusteaten', 'ship', 'relic', 'bygone', 'era', 'bobbed', 'ominously', 'tempestuous', 'inky', 'water'], ['weathered', 'hull', 'scarred', 'countless', 'storm', 'treacherous', 'sea', 'bore', 'silent', 'witness', 'century', 'maritime', 'adventure', 'mishap'], ['relentless', 'gale', 'howled', 'whipping', 'wave', 'frenzy', 'foam', 'ship', 'creaked', 'groaned', 'timber', 'protesting', 'relentless', 'onslaught'], ['lone', 'figure', 'clad', 'tattered', 'oilskin', 'coat', 'stood', 'helm', 'face', 'etched', 'mixture', 'fear', 'defiance'], ['weathered', 'hand', 'gripped', 'wheel', 'eye', 'fixed', 'horizon', 'storm', 'cloud', 'raged', 'like', 'monstrous', 'celestial', 'beast'], ['ship', 'majestic', 'vessel', 'sail', 'billowing', 'proudly', 'wind', 'traversed', 'vast', 'ocean', 'carrying', 'precious', 'cargo', 'bold', 'explorer', 'distant', 'shore'], ['mere', 'ghost', 'former', 'self', 'forlorn', 'sentinel', 'forgotten', 'age'], ['figure', 'helm', 'grizzled', 'old', 'sailor', 'named', 'elia', 'spent', 'life', 'sea', 'braving', 'countless', 'danger', 'witnessing', 'wrath', 'nature', 'firsthand'], ['seen', 'ship', 'sink', 'beneath', 'wave', 'crew', 'lost', 'depth', 'weathered', 'hurricane', 'stripped', 'vessel', 'bare', 'faced', 'pirate', 'smuggler', 'nefarious', 'character', 'prowled', 'sea', 'search', 'plunder'], ['nothing', 'prepared', 'storm', 'raging', 'around'], ['night', 'wore', 'storm', 'grew', 'even', 'ferocious', 'wind', 'howling', 'like', 'banshee', 'wave', 'crashing', 'ship', 'terrifying', 'force'], ['figure', 'helm', 'clung', 'wheel', 'knuckle', 'white', 'effort'], ['could', 'feel', 'ship', 'shudder', 'groan', 'timber', 'straining', 'immense', 'pressure'], ['wave', 'larger', 'ever', 'seen', 'reared', 'crest', 'towering', 'ship'], ['elia', 'braced', 'heart', 'pounding', 'chest'], ['wave', 'crashed', 'engulfing', 'ship', 'torrent', 'seawater'], ['figure', 'helm', 'swept', 'overboard', 'body', 'disappearing', 'beneath', 'churning', 'wave'], ['storm', 'raged', 'day', 'sea', 'chaotic', 'churning', 'mass', 'foam', 'spray'], ['ship', 'battered', 'bruised', 'drifted', 'helplessly', 'mercy', 'element'], ['eventually', 'discovered', 'passing', 'merchant', 'vessel', 'crew', 'astounded', 'find', 'still', 'afloat'], ['ship', 'towed', 'nearby', 'port', 'hauled', 'ashore', 'repaired'], ['memory', 'storm', 'loss', 'captain', 'would', 'linger', 'long', 'ship', 'restored', 'former', 'glory']]\n"
     ]
    }
   ],
   "source": [
    "# STEP-5 LEMMATISATION\n",
    "from nltk.stem import WordNetLemmatizer\n",
    "nltk.download('wordnet')\n",
    "nltk.download('omw-1.4')\n",
    "\n",
    "lemmatizer = WordNetLemmatizer()\n",
    "\n",
    "#lemmatize\n",
    "\n",
    "lemmatized_sentences = [[lemmatizer.lemmatize(word) for word in sentence] for sentence in filtered_sentence]\n",
    "\n",
    "print(lemmatized_sentences)"
   ]
  },
  {
   "cell_type": "code",
   "execution_count": 7,
   "metadata": {},
   "outputs": [
    {
     "name": "stdout",
     "output_type": "stream",
     "text": [
      "[[1 0 0 0 0 0 0 0 0 0 0 0 0 0 0 0 0 0 0 0 0 0]\n",
      " [0 0 0 0 0 0 0 0 0 0 0 0 0 0 0 0 0 0 0 0 0 1]\n",
      " [0 0 0 0 0 0 0 0 0 0 0 0 1 0 0 0 0 0 0 0 0 0]\n",
      " [0 0 0 0 0 0 0 1 0 0 0 0 0 0 0 0 0 0 0 0 0 0]\n",
      " [0 0 0 0 0 0 0 0 0 0 0 0 0 0 0 0 0 0 0 0 1 0]]\n",
      "['antiquatedrusteatenshiprelicbygoneerabobbedominouslytempestuousinkywater'\n",
      " 'couldfeelshipshuddergroantimberstrainingimmensepressure'\n",
      " 'eliabracedheartpoundingchest'\n",
      " 'eventuallydiscoveredpassingmerchantvesselcrewastoundedfindstillafloat'\n",
      " 'figurehelmclungwheelknucklewhiteeffort'\n",
      " 'figurehelmgrizzledoldsailornamedeliaspentlifeseabravingcountlessdangerwitnessingwrathnaturefirsthand'\n",
      " 'figurehelmsweptoverboardbodydisappearingbeneathchurningwave'\n",
      " 'lonefigurecladtatteredoilskincoatstoodhelmfaceetchedmixturefeardefiance'\n",
      " 'memorystormlosscaptainwouldlingerlongshiprestoredformerglory'\n",
      " 'mereghostformerselfforlornsentinelforgottenage']\n"
     ]
    }
   ],
   "source": [
    "#step-6 Bag of words\n",
    "\n",
    "from sklearn.feature_extraction.text import CountVectorizer\n",
    "\n",
    "#join words back into sentece for vectorisation\n",
    "joined_sentences = [''.join(sentence) for sentence in lemmatized_sentences]\\\n",
    "\n",
    "#initialise countvectoriser\n",
    "\n",
    "vectorizer = CountVectorizer()\n",
    "X_bow = vectorizer.fit_transform(joined_sentences)\n",
    "\n",
    "# Display Bag of Words feature representation for the first 5 sentences\n",
    "print(X_bow.toarray()[:5])  # Bag of Words representation\n",
    "print(vectorizer.get_feature_names_out()[:10])  # First 10 feature names"
   ]
  },
  {
   "cell_type": "code",
   "execution_count": 8,
   "metadata": {},
   "outputs": [
    {
     "name": "stdout",
     "output_type": "stream",
     "text": [
      "[[1. 0. 0. 0. 0. 0. 0. 0. 0. 0. 0. 0. 0. 0. 0. 0. 0. 0. 0. 0. 0. 0.]\n",
      " [0. 0. 0. 0. 0. 0. 0. 0. 0. 0. 0. 0. 0. 0. 0. 0. 0. 0. 0. 0. 0. 1.]\n",
      " [0. 0. 0. 0. 0. 0. 0. 0. 0. 0. 0. 0. 1. 0. 0. 0. 0. 0. 0. 0. 0. 0.]\n",
      " [0. 0. 0. 0. 0. 0. 0. 1. 0. 0. 0. 0. 0. 0. 0. 0. 0. 0. 0. 0. 0. 0.]\n",
      " [0. 0. 0. 0. 0. 0. 0. 0. 0. 0. 0. 0. 0. 0. 0. 0. 0. 0. 0. 0. 1. 0.]]\n",
      "['antiquatedrusteatenshiprelicbygoneerabobbedominouslytempestuousinkywater'\n",
      " 'couldfeelshipshuddergroantimberstrainingimmensepressure'\n",
      " 'eliabracedheartpoundingchest'\n",
      " 'eventuallydiscoveredpassingmerchantvesselcrewastoundedfindstillafloat'\n",
      " 'figurehelmclungwheelknucklewhiteeffort'\n",
      " 'figurehelmgrizzledoldsailornamedeliaspentlifeseabravingcountlessdangerwitnessingwrathnaturefirsthand'\n",
      " 'figurehelmsweptoverboardbodydisappearingbeneathchurningwave'\n",
      " 'lonefigurecladtatteredoilskincoatstoodhelmfaceetchedmixturefeardefiance'\n",
      " 'memorystormlosscaptainwouldlingerlongshiprestoredformerglory'\n",
      " 'mereghostformerselfforlornsentinelforgottenage']\n"
     ]
    }
   ],
   "source": [
    "# step-7 tf-idf\n",
    "from sklearn.feature_extraction.text import TfidfVectorizer\n",
    "\n",
    "tfidf = TfidfVectorizer()\n",
    "X_tfidf = tfidf.fit_transform(joined_sentences)\n",
    "\n",
    "# Display TF-IDF feature representation for the first 5 sentences\n",
    "print(X_tfidf.toarray()[:5])  # TF-IDF representation\n",
    "print(tfidf.get_feature_names_out()[:10])"
   ]
  },
  {
   "cell_type": "code",
   "execution_count": null,
   "metadata": {},
   "outputs": [],
   "source": []
  }
 ],
 "metadata": {
  "kernelspec": {
   "display_name": "Python 3",
   "language": "python",
   "name": "python3"
  },
  "language_info": {
   "codemirror_mode": {
    "name": "ipython",
    "version": 3
   },
   "file_extension": ".py",
   "mimetype": "text/x-python",
   "name": "python",
   "nbconvert_exporter": "python",
   "pygments_lexer": "ipython3",
   "version": "3.12.5"
  }
 },
 "nbformat": 4,
 "nbformat_minor": 2
}
